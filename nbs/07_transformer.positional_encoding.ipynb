{
 "cells": [
  {
   "cell_type": "markdown",
   "id": "4a9f6b49-600b-4a3a-a917-0faa3d173353",
   "metadata": {},
   "source": [
    "# Positional Encoding\n",
    "\n",
    "> Implement Transformer's Encoder Layer from scratch"
   ]
  },
  {
   "cell_type": "code",
   "execution_count": null,
   "id": "a4b26c1b-e0e1-4efb-81ba-9e418e4eae5f",
   "metadata": {},
   "outputs": [],
   "source": [
    "#| default_exp transformer.positional_encoding"
   ]
  },
  {
   "cell_type": "code",
   "execution_count": null,
   "id": "23f71f46-37f1-430f-9bc2-9d9e56af7de7",
   "metadata": {},
   "outputs": [],
   "source": [
    "#| hide\n",
    "from nbdev.showdoc import *"
   ]
  },
  {
   "cell_type": "code",
   "execution_count": null,
   "id": "cc7bbd3c-5f7a-4810-ac84-f49de78168df",
   "metadata": {},
   "outputs": [],
   "source": [
    "#| hide\n",
    "import nbdev; nbdev.nbdev_export()"
   ]
  },
  {
   "cell_type": "code",
   "execution_count": null,
   "id": "e2d8b260-04c0-497b-910b-42a71fac22b7",
   "metadata": {},
   "outputs": [],
   "source": [
    "#| export\n",
    "import torch\n",
    "from torch import nn"
   ]
  },
  {
   "cell_type": "code",
   "execution_count": null,
   "id": "18bbc562-a3bc-44ad-b656-7bb45c6b2b0f",
   "metadata": {},
   "outputs": [],
   "source": []
  }
 ],
 "metadata": {
  "kernelspec": {
   "display_name": "Python 3 (ipykernel)",
   "language": "python",
   "name": "python3"
  }
 },
 "nbformat": 4,
 "nbformat_minor": 5
}
