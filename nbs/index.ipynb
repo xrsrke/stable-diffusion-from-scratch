{
 "cells": [
  {
   "cell_type": "code",
   "execution_count": null,
   "metadata": {},
   "outputs": [],
   "source": [
    "#| hide\n",
    "# from foundation.core import *"
   ]
  },
  {
   "cell_type": "markdown",
   "metadata": {},
   "source": [
    "# Build stable diffusion from scratch\n",
    "\n",
    "> Foundation of deep learning"
   ]
  },
  {
   "cell_type": "markdown",
   "metadata": {},
   "source": [
    "Limits\n",
    "- can't export and explain\n",
    "- can't show code"
   ]
  },
  {
   "cell_type": "markdown",
   "metadata": {},
   "source": [
    "Thanks to the internet."
   ]
  },
  {
   "cell_type": "markdown",
   "metadata": {},
   "source": [
    "## Install"
   ]
  },
  {
   "attachments": {},
   "cell_type": "markdown",
   "metadata": {},
   "source": [
    "```sh\n",
    "pip install -r requirements.txt\n",
    "pip install -e .\n",
    "```"
   ]
  },
  {
   "cell_type": "code",
   "execution_count": null,
   "metadata": {},
   "outputs": [],
   "source": [
    "# #| explain \"noise = torch.randn_like(img_batch)\"\n",
    "\n",
    "# Why use `.randn_like`? Because we add noise to an image by do pixel-wise addition.\n",
    "\n",
    "# #| explain \"amount = amount.view(-1, 1, 1, 1)\"\n",
    "\n",
    "# `amount` is a scale factor for how much noise. For example, if noise is `0.3`, amount is `0.1` then the actual noise is `0.3 x 0.1 = 0.03`. \\n \n",
    "\n",
    "# So to multiple a scalar to \n",
    "\n",
    "# Because `img_batch` is a batch of `n` images, each image has size `3 x height x width`. So to add noise to all the pixels in three channels, we need to change the shape of `amount` to the same shape as an image."
   ]
  },
  {
   "attachments": {},
   "cell_type": "markdown",
   "metadata": {},
   "source": []
  }
 ],
 "metadata": {
  "kernelspec": {
   "display_name": "sb-from-scratch",
   "language": "python",
   "name": "python3"
  }
 },
 "nbformat": 4,
 "nbformat_minor": 4
}
