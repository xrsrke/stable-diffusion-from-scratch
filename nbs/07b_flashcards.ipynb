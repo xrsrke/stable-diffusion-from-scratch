{
 "cells": [
  {
   "cell_type": "code",
   "execution_count": null,
   "id": "01a9c4db-477f-4c40-bde5-47b529f71a24",
   "metadata": {},
   "outputs": [],
   "source": [
    "import math\n",
    "import torch\n",
    "import torch.nn.functional as F\n",
    "from torch import nn"
   ]
  },
  {
   "cell_type": "markdown",
   "id": "4d4e5c72-d450-4c3f-9660-7c3502ffeb54",
   "metadata": {},
   "source": [
    "##### Example 1"
   ]
  },
  {
   "cell_type": "code",
   "execution_count": null,
   "id": "7ab78a44-acfc-4e43-bb67-0d7054a8aaec",
   "metadata": {},
   "outputs": [],
   "source": [
    "x = [\n",
    "    torch.tensor(1),\n",
    "    torch.tensor(2),\n",
    "    torch.tensor(3),\n",
    "    torch.tensor(4)\n",
    "]"
   ]
  },
  {
   "cell_type": "code",
   "execution_count": null,
   "id": "6a11dcf2-0ce5-4f4d-ba0e-944e3c8de8cd",
   "metadata": {},
   "outputs": [
    {
     "ename": "RuntimeError",
     "evalue": "zero-dimensional tensor (at position 0) cannot be concatenated",
     "output_type": "error",
     "traceback": [
      "\u001b[0;31m---------------------------------------------------------------------------\u001b[0m",
      "\u001b[0;31mRuntimeError\u001b[0m                              Traceback (most recent call last)",
      "Cell \u001b[0;32mIn [7], line 1\u001b[0m\n\u001b[0;32m----> 1\u001b[0m output \u001b[38;5;241m=\u001b[39m \u001b[43mtorch\u001b[49m\u001b[38;5;241;43m.\u001b[39;49m\u001b[43mcat\u001b[49m\u001b[43m(\u001b[49m\u001b[43mx\u001b[49m\u001b[43m,\u001b[49m\u001b[43m \u001b[49m\u001b[38;5;241;43m-\u001b[39;49m\u001b[38;5;241;43m1\u001b[39;49m\u001b[43m)\u001b[49m\n",
      "\u001b[0;31mRuntimeError\u001b[0m: zero-dimensional tensor (at position 0) cannot be concatenated"
     ]
    }
   ],
   "source": [
    "output = torch.cat(x, -1)"
   ]
  },
  {
   "cell_type": "code",
   "execution_count": null,
   "id": "c8733302-1dda-4de9-bdda-b13102d86a80",
   "metadata": {},
   "outputs": [],
   "source": [
    "x = torch.arange(1, 9).reshape(2, 4)"
   ]
  },
  {
   "cell_type": "code",
   "execution_count": null,
   "id": "18c93009-48e7-41b4-b252-d64de7cd86fa",
   "metadata": {},
   "outputs": [
    {
     "data": {
      "text/plain": [
       "tensor([[1, 2, 3, 4],\n",
       "        [5, 6, 7, 8]])"
      ]
     },
     "execution_count": null,
     "metadata": {},
     "output_type": "execute_result"
    }
   ],
   "source": [
    "x"
   ]
  },
  {
   "cell_type": "code",
   "execution_count": null,
   "id": "07f0ba2c-5d54-41bd-a338-dec81ef0e63c",
   "metadata": {},
   "outputs": [
    {
     "ename": "TypeError",
     "evalue": "cat() received an invalid combination of arguments - got (Tensor, dim=int), but expected one of:\n * (tuple of Tensors tensors, int dim, *, Tensor out)\n * (tuple of Tensors tensors, name dim, *, Tensor out)\n",
     "output_type": "error",
     "traceback": [
      "\u001b[0;31m---------------------------------------------------------------------------\u001b[0m",
      "\u001b[0;31mTypeError\u001b[0m                                 Traceback (most recent call last)",
      "Cell \u001b[0;32mIn [18], line 1\u001b[0m\n\u001b[0;32m----> 1\u001b[0m \u001b[43mtorch\u001b[49m\u001b[38;5;241;43m.\u001b[39;49m\u001b[43mcat\u001b[49m\u001b[43m(\u001b[49m\u001b[43mx\u001b[49m\u001b[43m,\u001b[49m\u001b[43m \u001b[49m\u001b[43mdim\u001b[49m\u001b[38;5;241;43m=\u001b[39;49m\u001b[38;5;241;43m-\u001b[39;49m\u001b[38;5;241;43m1\u001b[39;49m\u001b[43m)\u001b[49m\n",
      "\u001b[0;31mTypeError\u001b[0m: cat() received an invalid combination of arguments - got (Tensor, dim=int), but expected one of:\n * (tuple of Tensors tensors, int dim, *, Tensor out)\n * (tuple of Tensors tensors, name dim, *, Tensor out)\n"
     ]
    }
   ],
   "source": [
    "torch.cat(x, dim=-1)"
   ]
  },
  {
   "cell_type": "markdown",
   "id": "7ef1e1d1-d406-49a7-a78b-f94d089373bd",
   "metadata": {},
   "source": [
    "- `seq_len` (sequence length) is 3\n",
    "- `d_h` (head dimensionality) is 2\n",
    "- `D` (model dimensionality) is 6"
   ]
  },
  {
   "cell_type": "code",
   "execution_count": null,
   "id": "51013b99-b15a-4e21-8fcd-837ebca12927",
   "metadata": {},
   "outputs": [],
   "source": [
    "output_per_head = [\n",
    "    [\n",
    "        [0.00, 0.01],\n",
    "        [0.10, 0.11],\n",
    "        [0.20, 0.21]\n",
    "    ],    \n",
    "    [\n",
    "        [1.00, 1.01],\n",
    "        [1.10, 1.11],\n",
    "        [1.20, 1.21]\n",
    "    ],\n",
    "    [\n",
    "        [2.00, 2.01],\n",
    "        [2.10, 2.11],\n",
    "        [2.20, 2.21]\n",
    "    ]\n",
    "]"
   ]
  },
  {
   "cell_type": "code",
   "execution_count": null,
   "id": "be1ac490-7581-4884-a97a-0c22707b3ca6",
   "metadata": {},
   "outputs": [],
   "source": [
    "output_per_head = torch.tensor(output_per_head).float()"
   ]
  },
  {
   "cell_type": "code",
   "execution_count": null,
   "id": "87b187b7-7257-4f14-be19-00499a2298f6",
   "metadata": {},
   "outputs": [
    {
     "data": {
      "text/plain": [
       "tensor([[[0.0000, 0.0100],\n",
       "         [0.1000, 0.1100],\n",
       "         [0.2000, 0.2100]],\n",
       "\n",
       "        [[1.0000, 1.0100],\n",
       "         [1.1000, 1.1100],\n",
       "         [1.2000, 1.2100]],\n",
       "\n",
       "        [[2.0000, 2.0100],\n",
       "         [2.1000, 2.1100],\n",
       "         [2.2000, 2.2100]]])"
      ]
     },
     "execution_count": null,
     "metadata": {},
     "output_type": "execute_result"
    }
   ],
   "source": [
    "output_per_head"
   ]
  },
  {
   "cell_type": "code",
   "execution_count": null,
   "id": "70f293e8-aa82-4b1e-8abb-be93a30275ff",
   "metadata": {},
   "outputs": [
    {
     "ename": "TypeError",
     "evalue": "cat() received an invalid combination of arguments - got (Tensor, dim=int), but expected one of:\n * (tuple of Tensors tensors, int dim, *, Tensor out)\n * (tuple of Tensors tensors, name dim, *, Tensor out)\n",
     "output_type": "error",
     "traceback": [
      "\u001b[0;31m---------------------------------------------------------------------------\u001b[0m",
      "\u001b[0;31mTypeError\u001b[0m                                 Traceback (most recent call last)",
      "Cell \u001b[0;32mIn [81], line 1\u001b[0m\n\u001b[0;32m----> 1\u001b[0m \u001b[43mtorch\u001b[49m\u001b[38;5;241;43m.\u001b[39;49m\u001b[43mcat\u001b[49m\u001b[43m(\u001b[49m\u001b[43moutput_per_head\u001b[49m\u001b[43m,\u001b[49m\u001b[43m \u001b[49m\u001b[43mdim\u001b[49m\u001b[38;5;241;43m=\u001b[39;49m\u001b[38;5;241;43m-\u001b[39;49m\u001b[38;5;241;43m1\u001b[39;49m\u001b[43m)\u001b[49m\n",
      "\u001b[0;31mTypeError\u001b[0m: cat() received an invalid combination of arguments - got (Tensor, dim=int), but expected one of:\n * (tuple of Tensors tensors, int dim, *, Tensor out)\n * (tuple of Tensors tensors, name dim, *, Tensor out)\n"
     ]
    }
   ],
   "source": [
    "torch.cat(output_per_head, dim=-1)"
   ]
  },
  {
   "cell_type": "markdown",
   "id": "972958f5-4127-4c52-9a29-9e893c7e21d0",
   "metadata": {},
   "source": [
    "`shape(expected_output)` = `[seq_lengh x D]`"
   ]
  },
  {
   "cell_type": "code",
   "execution_count": null,
   "id": "1db05f4e-3ae6-466e-b660-b25f3c21999f",
   "metadata": {},
   "outputs": [],
   "source": [
    "expected_output = [\n",
    "    [0.00, 0.01, 1.00, 1.01, 2.00, 2.01],\n",
    "    [0.10, 0.11, 1.10, 1.11, 2.10, 2.11],\n",
    "    [0.20, 0.21, 1.20, 1.21, 2.20, 2.21]\n",
    "]"
   ]
  },
  {
   "cell_type": "markdown",
   "id": "f6f4675c-8979-4b48-8bff-f38e097cc226",
   "metadata": {},
   "source": [
    "##### Example"
   ]
  },
  {
   "cell_type": "code",
   "execution_count": null,
   "id": "06241e2a-7952-427b-9da7-e11e4409d9b2",
   "metadata": {},
   "outputs": [],
   "source": [
    "from torch import nn"
   ]
  },
  {
   "cell_type": "markdown",
   "id": "8bb3f89e-a491-41eb-95d0-849b695b2184",
   "metadata": {},
   "source": [
    "Write the initialize part in `MultiHeadAttention`. Explain each variable and line"
   ]
  },
  {
   "cell_type": "code",
   "execution_count": null,
   "id": "00e90c62-e3b5-4a1f-925d-f654a0012851",
   "metadata": {},
   "outputs": [],
   "source": [
    "class MultiHeadAttention(nn.Module):\n",
    "    def __init__(self, d_model=4, num_heads=2):\n",
    "        super().__init__()\n",
    "        \n",
    "        # calculate the dimensionality per head\n",
    "        self.d_h = d_model // num_heads\n",
    "        \n",
    "        assert self.d_h * num_heads == d_model\n",
    "        \n",
    "        self.d_model = d_model\n",
    "        self.num_heads = num_heads\n",
    "        \n",
    "        # go from d_model to d per head\n",
    "        self.linear_qs = nn.ModuleList([\n",
    "            nn.Linear(d_model, self.d_h) for _ in range(num_heads)\n",
    "        ])\n",
    "        self.linear_ks = nn.ModuleList([\n",
    "            nn.Linear(d_model, self.d_h) for _ in range(num_heads)\n",
    "        ])        \n",
    "        self.linear_vs = nn.ModuleList([\n",
    "            nn.Linear(d_model, self.d_h) for _ in range(num_heads)\n",
    "        ])"
   ]
  },
  {
   "cell_type": "markdown",
   "id": "daa62f77-f795-4ceb-bc88-b30b7c29c76f",
   "metadata": {},
   "source": [
    "**Explain**\n",
    "\n",
    "Variables\n",
    "- `d_model`: the dimension of a embedding vector that represent each word\n",
    "- `num_heads`: the number of heads\n",
    "- `d_head`: the dimension\n",
    "- `linear_qs`: a list of `num_heads` matrix transformation maps the embedding vector to `Q`\n",
    "\n",
    "Code\n",
    "- `nn.Linear(d_model, self.d_h) for _ in range(num_heads)`\n",
    "    + For each head, create a matrix "
   ]
  },
  {
   "cell_type": "markdown",
   "id": "aba7592b-acf4-4214-a48b-ddc877ae36e3",
   "metadata": {},
   "source": [
    "It will take data with `[batch_size x seq_len x d_model]`"
   ]
  },
  {
   "cell_type": "code",
   "execution_count": null,
   "id": "c8b006f1-a36e-4bc3-af34-218ee69f69ad",
   "metadata": {},
   "outputs": [],
   "source": [
    "attention = MultiHeadAttention(d_model=6, num_heads=3)"
   ]
  },
  {
   "cell_type": "markdown",
   "id": "634add73-705a-47e0-b69b-6d6817c7a635",
   "metadata": {},
   "source": [
    "##### Example 4"
   ]
  },
  {
   "cell_type": "code",
   "execution_count": null,
   "id": "76fd9570-6e9a-4956-bcd7-08a93d207fdd",
   "metadata": {},
   "outputs": [],
   "source": [
    "attention_weight_1 = torch.tensor([[0.1, 0.2, 0.3],\n",
    "                                   [1.1, 1.2, 1.3],\n",
    "                                   [2.1, 2.2, 2.3]])\n",
    "attention_weight_2 = torch.tensor([[3.1, 3.2, 3.3],\n",
    "                                   [4.1, 4.2, 4.3],\n",
    "                                   [5.1, 5.2, 5.3]])\n",
    "attention_weight_3 = torch.tensor([[6.1, 6.2, 6.3],\n",
    "                                   [7.1, 7.2, 7.3],\n",
    "                                   [8.1, 8.2, 8.3]])"
   ]
  },
  {
   "cell_type": "code",
   "execution_count": null,
   "id": "0f9f9a58-e964-4b29-8241-ebd8e1f48da7",
   "metadata": {},
   "outputs": [],
   "source": [
    "import torch"
   ]
  },
  {
   "cell_type": "markdown",
   "id": "2bb0e64c-7f97-4b3c-8566-11152f915f45",
   "metadata": {},
   "source": [
    "These are attention weights from each head"
   ]
  },
  {
   "cell_type": "code",
   "execution_count": null,
   "id": "5b660463-4ca5-4947-967d-6ec5acad3aac",
   "metadata": {},
   "outputs": [
    {
     "data": {
      "text/plain": [
       "(torch.Size([3, 3]), torch.Size([3, 3]), torch.Size([3, 3]))"
      ]
     },
     "execution_count": null,
     "metadata": {},
     "output_type": "execute_result"
    }
   ],
   "source": [
    "attention_weight_1.shape, attention_weight_2.shape, attention_weight_3.shape"
   ]
  },
  {
   "cell_type": "markdown",
   "id": "b965974d-5f49-4c5b-9d5c-c54fda2ace84",
   "metadata": {},
   "source": [
    "Compute the attention weight of multi-head attention. And what is its final shape?"
   ]
  },
  {
   "cell_type": "code",
   "execution_count": null,
   "id": "8fc43763-311a-4367-aa8b-511663f094f2",
   "metadata": {},
   "outputs": [],
   "source": [
    "final_attention_weights = torch.stack([\n",
    "    attention_weight_1,\n",
    "    attention_weight_2,\n",
    "    attention_weight_3\n",
    "])"
   ]
  },
  {
   "cell_type": "code",
   "execution_count": null,
   "id": "61573bfb-d21f-45dc-867b-fc5cdd204a20",
   "metadata": {},
   "outputs": [
    {
     "data": {
      "text/plain": [
       "torch.Size([3, 3, 3])"
      ]
     },
     "execution_count": null,
     "metadata": {},
     "output_type": "execute_result"
    }
   ],
   "source": [
    "final_attention_weights.shape"
   ]
  },
  {
   "cell_type": "markdown",
   "id": "4eddeec5-b470-43d6-8ef9-c9d2313c5ef6",
   "metadata": {},
   "source": [
    "##### Example 5"
   ]
  },
  {
   "cell_type": "code",
   "execution_count": null,
   "id": "ad35650f-979f-4fdd-9228-db02e790334a",
   "metadata": {},
   "outputs": [],
   "source": [
    "attention_weight_1 = torch.tensor([[0.1, 0.2, 0.3],\n",
    "                                   [1.1, 1.2, 1.3],\n",
    "                                   [2.1, 2.2, 2.3]])"
   ]
  },
  {
   "cell_type": "code",
   "execution_count": null,
   "id": "21816870-6793-44ff-a5e4-a3e8fd262dab",
   "metadata": {},
   "outputs": [],
   "source": [
    "attention_weight_2 = torch.tensor([[3.1, 3.2, 3.3, 3.4],\n",
    "                                   [4.1, 4.2, 4.3, 4.4],\n",
    "                                   [5.1, 5.2, 5.3, 5.4],\n",
    "                                   [6.1, 6.2, 6.3, 6.4]])"
   ]
  },
  {
   "cell_type": "code",
   "execution_count": null,
   "id": "80b8c662-5e17-4eb6-bea1-1c80b58e0bf7",
   "metadata": {},
   "outputs": [],
   "source": [
    "attention_weight_3 = torch.tensor([[7.1, 7.2, 7.3, 7.4],\n",
    "                                   [8.1, 8.2, 8.3, 8.4],\n",
    "                                   [9.1, 9.2, 9.3, 9.4],\n",
    "                                   [10.1, 10.2, 10.3, 10.4]])"
   ]
  },
  {
   "cell_type": "code",
   "execution_count": null,
   "id": "a5df1d41-93c1-4da2-951b-7eb95bf6fda4",
   "metadata": {},
   "outputs": [
    {
     "data": {
      "text/plain": [
       "(torch.Size([3, 3]), torch.Size([4, 4]), torch.Size([4, 4]))"
      ]
     },
     "execution_count": null,
     "metadata": {},
     "output_type": "execute_result"
    }
   ],
   "source": [
    "attention_weight_1.shape, attention_weight_2.shape, attention_weight_3.shape"
   ]
  },
  {
   "cell_type": "code",
   "execution_count": null,
   "id": "f1fe0dd2-b09a-451b-8712-e2ec293f38a8",
   "metadata": {},
   "outputs": [],
   "source": [
    "attention_weight_1 = torch.nn.functional.pad(attention_weight_1, (1, 1, 1, 1), mode=\"constant\", value=0)"
   ]
  },
  {
   "cell_type": "code",
   "execution_count": null,
   "id": "5448fa47-1149-4df8-b189-462ef2327b0b",
   "metadata": {},
   "outputs": [],
   "source": [
    "attention_weight_2 = torch.nn.functional.pad(attention_weight_2, (0, 0, 1, 1), mode=\"constant\", value=0)\n"
   ]
  },
  {
   "cell_type": "code",
   "execution_count": null,
   "id": "f11b536d-c734-4f94-92c0-5ce9b6547ffd",
   "metadata": {},
   "outputs": [
    {
     "data": {
      "text/plain": [
       "(torch.Size([5, 5]), torch.Size([6, 4]), torch.Size([4, 4]))"
      ]
     },
     "execution_count": null,
     "metadata": {},
     "output_type": "execute_result"
    }
   ],
   "source": [
    "attention_weight_1.shape, attention_weight_2.shape, attention_weight_3.shape"
   ]
  },
  {
   "cell_type": "code",
   "execution_count": null,
   "id": "dd9df80c-53c7-4242-a476-1b6fad87761b",
   "metadata": {},
   "outputs": [
    {
     "ename": "RuntimeError",
     "evalue": "stack expects each tensor to be equal size, but got [3, 3] at entry 0 and [7, 7] at entry 1",
     "output_type": "error",
     "traceback": [
      "\u001b[0;31m---------------------------------------------------------------------------\u001b[0m",
      "\u001b[0;31mRuntimeError\u001b[0m                              Traceback (most recent call last)",
      "Cell \u001b[0;32mIn [195], line 1\u001b[0m\n\u001b[0;32m----> 1\u001b[0m attention_weights \u001b[38;5;241m=\u001b[39m \u001b[43mtorch\u001b[49m\u001b[38;5;241;43m.\u001b[39;49m\u001b[43mstack\u001b[49m\u001b[43m(\u001b[49m\u001b[43m[\u001b[49m\u001b[43mattention_weight_1\u001b[49m\u001b[43m,\u001b[49m\u001b[43m \u001b[49m\u001b[43mattention_weight_2\u001b[49m\u001b[43m,\u001b[49m\u001b[43m \u001b[49m\u001b[43mattention_weight_3\u001b[49m\u001b[43m]\u001b[49m\u001b[43m)\u001b[49m\n",
      "\u001b[0;31mRuntimeError\u001b[0m: stack expects each tensor to be equal size, but got [3, 3] at entry 0 and [7, 7] at entry 1"
     ]
    }
   ],
   "source": [
    "attention_weights = torch.stack([attention_weight_1, attention_weight_2, attention_weight_3])"
   ]
  },
  {
   "cell_type": "markdown",
   "id": "37837888-f0dd-423b-ab47-fdd94eb6b6bf",
   "metadata": {},
   "source": [
    "##### Example 5"
   ]
  },
  {
   "cell_type": "code",
   "execution_count": null,
   "id": "8e9335e5-1c9e-489a-b806-d3e0c0359444",
   "metadata": {},
   "outputs": [],
   "source": [
    "x = torch.tensor([[1, 2, 3],\n",
    "                  [4, 5, 6],\n",
    "                  [7, 8, 9]])"
   ]
  },
  {
   "cell_type": "code",
   "execution_count": null,
   "id": "5d3f8d85-0e1f-476c-8828-fb613c789505",
   "metadata": {},
   "outputs": [],
   "source": [
    "import torch.nn.functional as F"
   ]
  },
  {
   "cell_type": "code",
   "execution_count": null,
   "id": "24056682-2320-42ef-bfd3-6715721dc03a",
   "metadata": {},
   "outputs": [
    {
     "data": {
      "text/plain": [
       "tensor([[1, 2, 3],\n",
       "        [4, 5, 6],\n",
       "        [7, 8, 9]])"
      ]
     },
     "execution_count": null,
     "metadata": {},
     "output_type": "execute_result"
    }
   ],
   "source": [
    "x"
   ]
  },
  {
   "cell_type": "markdown",
   "id": "d2f75b08-acdf-4849-a6ad-57c1aabb3c7b",
   "metadata": {},
   "source": [
    "Create a tensor `y` from `x` as bellow"
   ]
  },
  {
   "cell_type": "code",
   "execution_count": null,
   "id": "01148b90-dedd-46af-8305-41d55c77e468",
   "metadata": {},
   "outputs": [],
   "source": [
    "y = F.pad(x, (1, 1, 1, 1))"
   ]
  },
  {
   "cell_type": "code",
   "execution_count": null,
   "id": "bd2d4548-43ec-4e17-9cf6-8604bf633d7e",
   "metadata": {},
   "outputs": [
    {
     "data": {
      "text/plain": [
       "tensor([[0, 0, 0, 0, 0],\n",
       "        [0, 1, 2, 3, 0],\n",
       "        [0, 4, 5, 6, 0],\n",
       "        [0, 7, 8, 9, 0],\n",
       "        [0, 0, 0, 0, 0]])"
      ]
     },
     "execution_count": null,
     "metadata": {},
     "output_type": "execute_result"
    }
   ],
   "source": [
    "y"
   ]
  },
  {
   "cell_type": "code",
   "execution_count": null,
   "id": "04331773-ca63-4a1e-a7fb-5f9b08b81ce9",
   "metadata": {},
   "outputs": [
    {
     "data": {
      "text/plain": [
       "torch.Size([5, 5])"
      ]
     },
     "execution_count": null,
     "metadata": {},
     "output_type": "execute_result"
    }
   ],
   "source": [
    "y.shape"
   ]
  },
  {
   "cell_type": "code",
   "execution_count": null,
   "id": "d519c5f4-6830-45e1-97d8-abd9c140a867",
   "metadata": {},
   "outputs": [
    {
     "name": "stdout",
     "output_type": "stream",
     "text": [
      "Theta at t1 (radians): 16.0\n",
      "Theta at t1 (degrees): 916.7324722093172\n",
      "Theta at t2 (radians): 250.0\n",
      "Theta at t2 (degrees): 14323.94487827058\n",
      "Distance moved: 84.24\n",
      "Average angular velocity (rad/s): 78.0\n",
      "Average angular velocity (rev/min): 744.8451336700701\n",
      "Instantaneous angular velocity at t1 (rad/s): 24.0\n",
      "Instantaneous angular velocity at t1 (rev/min): 229.1831180523293\n",
      "Instantaneous angular velocity at t2 (rad/s): 150.0\n",
      "Instantaneous angular velocity at t2 (rev/min): 1432.394487827058\n"
     ]
    }
   ],
   "source": [
    "# Import the math module to use math functions\n",
    "import math\n",
    "\n",
    "# Define the diameter of the flywheel\n",
    "diameter = 0.36\n",
    "\n",
    "# Define the angular position formula\n",
    "def theta(t):\n",
    "  return (2.0 * t**3)\n",
    "\n",
    "# Calculate theta at t1\n",
    "t1 = 2.0\n",
    "theta_t1 = theta(t1)\n",
    "\n",
    "# Calculate theta at t2\n",
    "t2 = 5.0\n",
    "theta_t2 = theta(t2)\n",
    "\n",
    "# Calculate the distance the particle moves\n",
    "distance = diameter * (theta_t2 - theta_t1)\n",
    "\n",
    "# Calculate the average angular velocity\n",
    "avg_angular_velocity = (theta_t2 - theta_t1) / (t2 - t1)\n",
    "\n",
    "# Calculate the instantaneous angular velocities at t1 and t2\n",
    "instantaneous_angular_velocity_t1 = 3 * (2.0 * t1**2)\n",
    "instantaneous_angular_velocity_t2 = 3 * (2.0 * t2**2)\n",
    "\n",
    "# Print the results\n",
    "print(\"Theta at t1 (radians):\", theta_t1)\n",
    "print(\"Theta at t1 (degrees):\", math.degrees(theta_t1))\n",
    "print(\"Theta at t2 (radians):\", theta_t2)\n",
    "print(\"Theta at t2 (degrees):\", math.degrees(theta_t2))\n",
    "print(\"Distance moved:\", distance)\n",
    "print(\"Average angular velocity (rad/s):\", avg_angular_velocity)\n",
    "print(\"Average angular velocity (rev/min):\", (avg_angular_velocity / (2 * math.pi)) * 60)\n",
    "print(\"Instantaneous angular velocity at t1 (rad/s):\", instantaneous_angular_velocity_t1)\n",
    "print(\"Instantaneous angular velocity at t1 (rev/min):\", (instantaneous_angular_velocity_t1 / (2 * math.pi)) * 60)\n",
    "print(\"Instantaneous angular velocity at t2 (rad/s):\", instantaneous_angular_velocity_t2)\n",
    "print(\"Instantaneous angular velocity at t2 (rev/min):\", (instantaneous_angular_velocity_t2 / (2 * math.pi)) * 60)\n"
   ]
  },
  {
   "cell_type": "code",
   "execution_count": null,
   "id": "ae666fd9-ce95-47a1-9a3d-89010c0d7098",
   "metadata": {},
   "outputs": [],
   "source": []
  }
 ],
 "metadata": {
  "kernelspec": {
   "display_name": "Python 3 (ipykernel)",
   "language": "python",
   "name": "python3"
  }
 },
 "nbformat": 4,
 "nbformat_minor": 5
}
