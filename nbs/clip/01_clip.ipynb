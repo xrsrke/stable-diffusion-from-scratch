{
 "cells": [
  {
   "attachments": {},
   "cell_type": "markdown",
   "id": "d18ed250-1687-47dd-9475-c617c5624314",
   "metadata": {},
   "source": [
    "# CLIP\n",
    "\n",
    "> Implementation of CLIP"
   ]
  },
  {
   "cell_type": "code",
   "execution_count": null,
   "id": "a453fb90-81e2-427d-9ab7-d9661344165c",
   "metadata": {},
   "outputs": [],
   "source": [
    "#| default_exp clip"
   ]
  },
  {
   "cell_type": "code",
   "execution_count": null,
   "id": "8aa87288-6645-4a55-a74f-4878a9ba390f",
   "metadata": {},
   "outputs": [],
   "source": [
    "#| hide\n",
    "from nbdev.showdoc import *"
   ]
  },
  {
   "cell_type": "code",
   "execution_count": null,
   "metadata": {},
   "outputs": [],
   "source": []
  }
 ],
 "metadata": {
  "kernelspec": {
   "display_name": "sb-from-scratch",
   "language": "python",
   "name": "python3"
  },
  "language_info": {
   "name": "python",
   "version": "3.9.15 | packaged by conda-forge | (main, Nov 22 2022, 08:48:25) \n[Clang 14.0.6 ]"
  },
  "orig_nbformat": 4,
  "vscode": {
   "interpreter": {
    "hash": "d964ee95f874ee5744c8d970377d82f548475fce4b579cb2112551caf7b0ce8e"
   }
  }
 },
 "nbformat": 4,
 "nbformat_minor": 2
}
