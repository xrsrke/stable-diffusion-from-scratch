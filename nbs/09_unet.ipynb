{
 "cells": [
  {
   "cell_type": "markdown",
   "id": "9d2e690c-33ed-4c13-b1e8-fccf4750ec0c",
   "metadata": {},
   "source": [
    "# unet\n",
    "\n",
    "> Fill in a module description here"
   ]
  },
  {
   "cell_type": "code",
   "execution_count": null,
   "id": "08a2504d-faab-4646-8ce2-a9f7414f01e1",
   "metadata": {},
   "outputs": [],
   "source": [
    "#| default_exp unet"
   ]
  },
  {
   "cell_type": "code",
   "execution_count": null,
   "id": "af5cc676-c465-43b1-9740-b264d212ec3b",
   "metadata": {},
   "outputs": [],
   "source": [
    "#| hide\n",
    "from nbdev.showdoc import *"
   ]
  },
  {
   "cell_type": "code",
   "execution_count": null,
   "id": "fda33284-d9f5-4e4d-9138-0b16b79ba3d3",
   "metadata": {},
   "outputs": [],
   "source": [
    "#| hide\n",
    "import nbdev; nbdev.nbdev_export()"
   ]
  },
  {
   "cell_type": "code",
   "execution_count": null,
   "id": "3047fb90-baad-4b63-a49f-5439817bac51",
   "metadata": {},
   "outputs": [],
   "source": [
    "#| export\n",
    "import torch\n",
    "from torch import nn"
   ]
  },
  {
   "cell_type": "code",
   "execution_count": null,
   "id": "6a6a7e9f-34ea-4ca7-963e-93c675aaa8cb",
   "metadata": {},
   "outputs": [],
   "source": [
    "#| exports\n",
    "class BasicUNet(nn.Module):\n",
    "    def __init__(self, in_channels=1, out_channels=1):\n",
    "        super().__init__()\n",
    "        self.down_layers = nn.ModuleList([\n",
    "            nn.Conv2d(\n",
    "                in_channels=in_channels, out_channels=32,\n",
    "                kernel_size=5, padding=2\n",
    "            ),\n",
    "            nn.Conv2d(\n",
    "                in_channels=32, out_channels=64,\n",
    "                kernel_size=5, padding=2\n",
    "            ),\n",
    "            nn.Conv2d(\n",
    "                in_channels=64, out_channels=64,\n",
    "                kernel_size=5, padding=2\n",
    "            ),\n",
    "            \n",
    "        ])\n",
    "        \n",
    "        self.up_layers = nn.ModuleList([\n",
    "            nn.Conv2d(\n",
    "                in_channels=64, out_channels=64,\n",
    "                kernel_size=5, padding=2\n",
    "            ),\n",
    "            nn.Conv2d(\n",
    "                in_channels=64, out_channels=32,\n",
    "                kernel_size=5, padding=2\n",
    "            ),\n",
    "            nn.Conv2d(\n",
    "                in_channels=32, out_channels=out_channels,\n",
    "                kernel_size=5, padding=2\n",
    "            ),\n",
    "        ])\n",
    "        self.act = nn.SiLU()\n",
    "        self.downscale = nn.MaxPool2d(kernel_size=2)\n",
    "        self.upscale = nn.Upsample(scale_factor=2)\n",
    "    \n",
    "    def forward(self, x):\n",
    "        h = []\n",
    "        for i, layer in enumerate(self.down_layers):\n",
    "            x = self.act(layer(x))\n",
    "            if i < 2:\n",
    "                h.append(x)\n",
    "                x = self.downscale(x)\n",
    "        \n",
    "        for i, layer in enumerate(self.up_layers):\n",
    "            if i > 0:\n",
    "                x = self.upscale(x)\n",
    "                x += h.pop()\n",
    "            x = self.act(layer(x))\n",
    "        \n",
    "        return x"
   ]
  },
  {
   "cell_type": "code",
   "execution_count": null,
   "id": "7b471a89-9947-4830-b916-912d7ce2f84f",
   "metadata": {},
   "outputs": [
    {
     "data": {
      "text/plain": [
       "torch.Size([8, 1, 28, 28])"
      ]
     },
     "execution_count": null,
     "metadata": {},
     "output_type": "execute_result"
    }
   ],
   "source": [
    "net = BasicUNet()\n",
    "x = torch.rand(8, 1, 28, 28)\n",
    "net(x).shape"
   ]
  },
  {
   "cell_type": "code",
   "execution_count": null,
   "id": "1fc8e831-2e98-4cd7-9180-72dbd57aef46",
   "metadata": {},
   "outputs": [],
   "source": []
  },
  {
   "cell_type": "code",
   "execution_count": null,
   "id": "2e9305a6-516a-40ee-9d9a-c751f29ad20b",
   "metadata": {},
   "outputs": [],
   "source": []
  }
 ],
 "metadata": {
  "kernelspec": {
   "display_name": "Python 3 (ipykernel)",
   "language": "python",
   "name": "python3"
  }
 },
 "nbformat": 4,
 "nbformat_minor": 5
}
