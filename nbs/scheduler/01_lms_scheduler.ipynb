{
 "cells": [
  {
   "attachments": {},
   "cell_type": "markdown",
   "metadata": {},
   "source": [
    "# LMS Discrete Scheduler\n",
    "\n",
    "> Implementation of LMS Discrete Scheduler"
   ]
  },
  {
   "cell_type": "code",
   "execution_count": null,
   "metadata": {},
   "outputs": [],
   "source": [
    "#| default_exp scheduler.lms"
   ]
  },
  {
   "cell_type": "code",
   "execution_count": null,
   "metadata": {},
   "outputs": [],
   "source": [
    "#| hide\n",
    "from nbdev.showdoc import *"
   ]
  },
  {
   "cell_type": "code",
   "execution_count": null,
   "metadata": {},
   "outputs": [],
   "source": [
    "#| hide\n",
    "import nbdev; nbdev.nbdev_export()"
   ]
  },
  {
   "cell_type": "code",
   "execution_count": null,
   "metadata": {},
   "outputs": [],
   "source": [
    "#| export\n",
    "from typing import NoReturn, Union\n",
    "import torch\n",
    "from diffusers import LMSDiscreteScheduler as DiffuserScheduler"
   ]
  },
  {
   "cell_type": "code",
   "execution_count": null,
   "metadata": {},
   "outputs": [],
   "source": [
    "#| export\n",
    "class LMSDiscreteScheduler:\n",
    "    def __init__(\n",
    "        self,\n",
    "        beta_start: float = 0.00085,\n",
    "        beta_end: float = 0.012,\n",
    "        beta_schedule: str = \"scaled_linear\",\n",
    "        n_train_timesteps: int = 1000\n",
    "    ):\n",
    "        self.scheduler = DiffuserScheduler(\n",
    "            beta_start=beta_start, beta_end=beta_end,\n",
    "            beta_schedule=beta_schedule,\n",
    "            num_train_timesteps=n_train_timesteps\n",
    "        )\n",
    "    \n",
    "    @property\n",
    "    def init_noise_sigma(self) -> torch.Tensor:\n",
    "        return self.scheduler.init_noise_sigma\n",
    "    \n",
    "    @property\n",
    "    def timesteps(self) -> torch.Tensor:\n",
    "        return self.scheduler.timesteps\n",
    "    \n",
    "    @property\n",
    "    def sigmas(self) -> torch.Tensor:\n",
    "        return self.scheduler.sigmas\n",
    "    \n",
    "    def set_timesteps(self, n_inference_steps: int) -> NoReturn:\n",
    "        return self.scheduler.set_timesteps(n_inference_steps)\n",
    "    \n",
    "    def scale_model_input(self, sample: torch.FloatTensor, timestep: Union[float, torch.FloatTensor]):\n",
    "        return self.scheduler.scale_model_input(sample, timestep)\n",
    "    \n",
    "    def step(self, *args, **kwargs):\n",
    "        return self.scheduler.step(*args, **kwargs)"
   ]
  },
  {
   "cell_type": "code",
   "execution_count": null,
   "metadata": {},
   "outputs": [],
   "source": []
  }
 ],
 "metadata": {
  "kernelspec": {
   "display_name": "sb-from-scratch",
   "language": "python",
   "name": "python3"
  }
 },
 "nbformat": 4,
 "nbformat_minor": 2
}
