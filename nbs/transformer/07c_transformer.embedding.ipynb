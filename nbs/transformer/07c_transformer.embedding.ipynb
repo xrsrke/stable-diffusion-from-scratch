{
 "cells": [
  {
   "cell_type": "markdown",
   "id": "45502ac5-de74-4fae-b5de-aa8ebc060d5c",
   "metadata": {},
   "source": [
    "# Embedding\n",
    "\n",
    "> Fill in a module description here"
   ]
  },
  {
   "cell_type": "code",
   "execution_count": 1,
   "id": "27fb9152-a1b9-4746-9a47-60a52710bd79",
   "metadata": {},
   "outputs": [],
   "source": [
    "#| default_exp transformer.embedding"
   ]
  },
  {
   "cell_type": "code",
   "execution_count": 2,
   "id": "056d23d9-9878-4bbf-9c06-680e3e175fc7",
   "metadata": {},
   "outputs": [],
   "source": [
    "#| hide\n",
    "from nbdev.showdoc import *"
   ]
  },
  {
   "cell_type": "code",
   "execution_count": 3,
   "id": "6c46c01c-9a4d-481e-996c-a317771af931",
   "metadata": {},
   "outputs": [],
   "source": [
    "#| hide\n",
    "import nbdev; nbdev.nbdev_export()"
   ]
  },
  {
   "cell_type": "code",
   "execution_count": 4,
   "id": "34549103-f4d4-4b45-8097-4f284cf7b311",
   "metadata": {},
   "outputs": [
    {
     "name": "stderr",
     "output_type": "stream",
     "text": [
      "/Users/education/miniforge3/envs/sb-from-scratch/lib/python3.9/site-packages/tqdm/auto.py:22: TqdmWarning: IProgress not found. Please update jupyter and ipywidgets. See https://ipywidgets.readthedocs.io/en/stable/user_install.html\n",
      "  from .autonotebook import tqdm as notebook_tqdm\n"
     ]
    }
   ],
   "source": [
    "#| export\n",
    "import math\n",
    "from typing import Union\n",
    "\n",
    "import torch\n",
    "from torch import nn"
   ]
  },
  {
   "cell_type": "markdown",
   "id": "fd5d5077-2127-4ae7-93d4-2ee48635908e",
   "metadata": {},
   "source": [
    "### Text Embedding"
   ]
  },
  {
   "cell_type": "code",
   "execution_count": 5,
   "id": "5dfeed58-a9cd-443e-ace6-6ae04192e3eb",
   "metadata": {},
   "outputs": [],
   "source": [
    "#| export\n",
    "class TextEmbedding(nn.Module):\n",
    "    def __init__(self, vocab_size: int, d_model: int, padding_idx: Union[int, float]):\n",
    "        super().__init__()\n",
    "        self.d_model = d_model\n",
    "        self.embeding = nn.Embedding(vocab_size, d_model, padding_idx=padding_idx)\n",
    "\n",
    "    def forward(self, tokens: torch.Tensor):\n",
    "        # shape(tokens) = [batch_size x seq_len]\n",
    "        \n",
    "        # shape(embedding) = [batch_size x seq_len x d_model]\n",
    "        embeddings = self.embeding(tokens)\n",
    "        return embeddings * math.sqrt(self.d_model)"
   ]
  },
  {
   "cell_type": "code",
   "execution_count": null,
   "id": "748d7954",
   "metadata": {},
   "outputs": [],
   "source": []
  }
 ],
 "metadata": {
  "kernelspec": {
   "display_name": "sb-from-scratch",
   "language": "python",
   "name": "python3"
  },
  "language_info": {
   "codemirror_mode": {
    "name": "ipython",
    "version": 3
   },
   "file_extension": ".py",
   "mimetype": "text/x-python",
   "name": "python",
   "nbconvert_exporter": "python",
   "pygments_lexer": "ipython3",
   "version": "3.9.15 | packaged by conda-forge | (main, Nov 22 2022, 08:48:25) \n[Clang 14.0.6 ]"
  },
  "vscode": {
   "interpreter": {
    "hash": "d964ee95f874ee5744c8d970377d82f548475fce4b579cb2112551caf7b0ce8e"
   }
  }
 },
 "nbformat": 4,
 "nbformat_minor": 5
}
