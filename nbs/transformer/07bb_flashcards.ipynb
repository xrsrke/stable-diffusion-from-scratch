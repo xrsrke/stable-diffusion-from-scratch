{
 "cells": [
  {
   "cell_type": "code",
   "execution_count": null,
   "id": "89572b53-9987-4b9b-9d57-3b4e6550342d",
   "metadata": {},
   "outputs": [],
   "source": [
    "import math\n",
    "import torch\n",
    "import torch.nn.functional as F\n",
    "from torch import nn"
   ]
  },
  {
   "cell_type": "code",
   "execution_count": null,
   "id": "2f089180-a061-4388-8935-b1f634250cf4",
   "metadata": {},
   "outputs": [],
   "source": [
    "class MultiHeadAttention(nn.Module):\n",
    "    def __init__(self, d_model=4, num_heads=2, dropout=0.3):\n",
    "        super().__init__()\n",
    "        \n",
    "        # calculate the dimensionality per head\n",
    "        self.d_h = d_model // num_heads\n",
    "        \n",
    "        assert self.d_h * num_heads == d_model\n",
    "        \n",
    "        self.d_model = d_model\n",
    "        self.num_heads = num_heads\n",
    "        self.dropout = nn.Dropout(dropout)\n",
    "        \n",
    "        # go from d_model to d per head\n",
    "        self.linear_qs = nn.ModuleList([\n",
    "            nn.Linear(d_model, self.d_h) for _ in range(num_heads)\n",
    "        ])\n",
    "        self.linear_ks = nn.ModuleList([\n",
    "            nn.Linear(d_model, self.d_h) for _ in range(num_heads)\n",
    "        ])        \n",
    "        self.linear_vs = nn.ModuleList([\n",
    "            nn.Linear(d_model, self.d_h) for _ in range(num_heads)\n",
    "        ])\n",
    "        self.linear = nn.Linear(d_model, d_model)\n",
    "    \n",
    "    def scaled_dot_product_attention(self, Q, K, V):\n",
    "        # shape(Q, K, V) = [batch_size x seq_len x d_h] * num_heads\n",
    "        # shape(Q) = [batch_size x seq_len x d_h]\n",
    "        # shape(K) = [batch_size x seq_len x d_h] => [batch_size x d_h x seq_len]\n",
    "        \n",
    "        # shape(Q_K_matmul) = [batch_size x seq_len x seq_len]\n",
    "        Q_K_matmul = torch.matmul(Q, K.permute(0, 2, 1))\n",
    "        \n",
    "        # shape(scores) = [batch_size x seq_len x seq_len]\n",
    "        scores = Q_K_matmul / math.sqrt(self.d_h)\n",
    "        \n",
    "        # shape(attn_weights) = [batch_size x seq_len x seq_len]\n",
    "        attn_weights = F.softmax(scores, dim=-1)\n",
    "        \n",
    "        # shape(output) = [batch_size x seq_len x d_h]\n",
    "        output = torch.matmul(attn_weights, V)\n",
    "        \n",
    "        return output, attn_weights\n",
    "    \n",
    "    def forward(self, x):\n",
    "        # shape(x) = [batch_size x seq_len x d_model]\n",
    "        \n",
    "        # shape(Q, K, V) = [batch_size x seq_len x d_h] * num_heads\n",
    "        Q = [linear_q(x) for linear_q in self.linear_qs]\n",
    "        K = [linear_k(x) for linear_k in self.linear_ks]\n",
    "        V = [linear_v(x) for linear_v in self.linear_vs]\n",
    "        \n",
    "        # shape(output_per_head) = [batch_size x seq_len x d_h] * num_heads\n",
    "        output_per_head = []\n",
    "        \n",
    "        # shape(attn_weight_per_head) = [batch_size x seq_len x seq_len] * num_heads\n",
    "        attn_weight_per_head = []\n",
    "        \n",
    "        for Q_, K_, V_ in zip(Q, K, V):\n",
    "            output, attn_weight = self.scaled_dot_product_attention(Q_, K_, V_)\n",
    "            output_per_head.append(output)\n",
    "            attn_weight_per_head.append(attn_weight)\n",
    "        \n",
    "        # shape(output) = [batch_size x seq_len x d_model]\n",
    "        output = torch.cat(output_per_head, dim=-1)\n",
    "        \n",
    "        # shape(attn_weights) = [num_heads x batch_size x seq_len x seq_len]\n",
    "        attn_weights = torch.stack(attn_weight_per_head)\n",
    "        \n",
    "        # shape(attn_weights) = [batch_size x num_heads x seq_len x seq_len]\n",
    "        attn_weights = attn_weights.permute(1, 0, 2, 3)\n",
    "        \n",
    "        projection = self.dropout(self.linear(output))\n",
    "        \n",
    "        return projection, attn_weights"
   ]
  },
  {
   "cell_type": "code",
   "execution_count": null,
   "id": "57e86a12-0442-4379-b26b-a1f752b79c6b",
   "metadata": {},
   "outputs": [],
   "source": [
    "text_encodings = torch.Tensor([[\n",
    "    [0.0, 0.1, 0.2, 0.3],\n",
    "    [1.0, 1.1, 1.2, 1.3],\n",
    "    [2.0, 2.1, 2.2, 2.3]\n",
    "]]) "
   ]
  },
  {
   "cell_type": "markdown",
   "id": "1ffd6f63-b53b-4fcf-9641-e76a6cb3044e",
   "metadata": {},
   "source": [
    "##### Example 8"
   ]
  },
  {
   "cell_type": "code",
   "execution_count": null,
   "id": "8443bebe-376b-4a6e-b6cb-a92b8778328c",
   "metadata": {},
   "outputs": [
    {
     "data": {
      "text/plain": [
       "torch.Size([1, 3, 4])"
      ]
     },
     "execution_count": null,
     "metadata": {},
     "output_type": "execute_result"
    }
   ],
   "source": [
    "text_encodings.shape"
   ]
  },
  {
   "cell_type": "code",
   "execution_count": null,
   "id": "41643c39-aef8-4b13-97a2-0f814a1843cf",
   "metadata": {},
   "outputs": [],
   "source": [
    "mha = MultiHeadAttention(d_model=4, num_heads=2)"
   ]
  },
  {
   "cell_type": "code",
   "execution_count": null,
   "id": "875c42f8-45e2-4c6f-9807-24836608607d",
   "metadata": {},
   "outputs": [],
   "source": [
    "output, attn_weights= mha(text_encodings)"
   ]
  },
  {
   "cell_type": "markdown",
   "id": "57cba82e-3e3b-49f4-b1d6-a476dbdfea22",
   "metadata": {},
   "source": [
    "Predict the shape of `projection`. Explain why."
   ]
  },
  {
   "cell_type": "code",
   "execution_count": null,
   "id": "43060d77-d6ad-4f0c-be8b-ec9970c7f6eb",
   "metadata": {},
   "outputs": [
    {
     "data": {
      "text/plain": [
       "torch.Size([1, 3, 4])"
      ]
     },
     "execution_count": null,
     "metadata": {},
     "output_type": "execute_result"
    }
   ],
   "source": [
    "output.shape"
   ]
  },
  {
   "cell_type": "markdown",
   "id": "1ce6c33b-8441-46fb-a4ae-2f2a9ecc6ad7",
   "metadata": {},
   "source": [
    "**Explain**\n",
    "\n",
    "- `1`: batch size is one\n",
    "- `3`: there are three words in a sequence\n",
    "- `4`: each word represented by a vector has size 4"
   ]
  },
  {
   "cell_type": "markdown",
   "id": "73c4e594-8a56-42f9-81f3-e9dbca5e5ff4",
   "metadata": {},
   "source": [
    "##### Example 9"
   ]
  },
  {
   "cell_type": "code",
   "execution_count": null,
   "id": "791b24eb-933e-4402-8077-f04fac8044cc",
   "metadata": {},
   "outputs": [
    {
     "data": {
      "text/plain": [
       "torch.Size([1, 3, 4])"
      ]
     },
     "execution_count": null,
     "metadata": {},
     "output_type": "execute_result"
    }
   ],
   "source": [
    "text_encodings.shape"
   ]
  },
  {
   "cell_type": "code",
   "execution_count": null,
   "id": "77aafd55-a697-4f38-bbc6-9668e15c6a90",
   "metadata": {},
   "outputs": [],
   "source": [
    "mha = MultiHeadAttention(d_model=4, num_heads=2)"
   ]
  },
  {
   "cell_type": "code",
   "execution_count": null,
   "id": "e3fafa0b-4534-4613-9933-9750a88b8384",
   "metadata": {},
   "outputs": [],
   "source": [
    "projection, attn_weights= mha(toy_encodings)"
   ]
  },
  {
   "cell_type": "markdown",
   "id": "e34e4711-4123-4a17-a0c3-8556886b12e1",
   "metadata": {},
   "source": [
    "Predict the shape of `attn_weights`. Explain why."
   ]
  },
  {
   "cell_type": "code",
   "execution_count": null,
   "id": "89609359-a814-47d9-a65e-8230690e9268",
   "metadata": {},
   "outputs": [
    {
     "data": {
      "text/plain": [
       "torch.Size([1, 2, 3, 3])"
      ]
     },
     "execution_count": null,
     "metadata": {},
     "output_type": "execute_result"
    }
   ],
   "source": [
    "attn_weights.shape"
   ]
  },
  {
   "cell_type": "markdown",
   "id": "ae8057ed-3fad-429e-b55a-9b8e7b5bd48b",
   "metadata": {},
   "source": [
    "**Explain**\n",
    "- `1`: batch size is one\n",
    "- `2`: there're two heads\n",
    "- `3`: there're three words\n",
    "- `3`: in each words, there are attention weights for other words in the sentence"
   ]
  },
  {
   "cell_type": "code",
   "execution_count": null,
   "id": "a821d16d-4266-4c92-9a67-7e5f0a194683",
   "metadata": {},
   "outputs": [],
   "source": []
  }
 ],
 "metadata": {
  "kernelspec": {
   "display_name": "sb-from-scratch",
   "language": "python",
   "name": "python3"
  },
  "language_info": {
   "name": "python",
   "version": "3.9.15 | packaged by conda-forge | (main, Nov 22 2022, 08:48:25) \n[Clang 14.0.6 ]"
  },
  "vscode": {
   "interpreter": {
    "hash": "d964ee95f874ee5744c8d970377d82f548475fce4b579cb2112551caf7b0ce8e"
   }
  }
 },
 "nbformat": 4,
 "nbformat_minor": 5
}
