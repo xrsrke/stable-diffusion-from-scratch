{
 "cells": [
  {
   "cell_type": "markdown",
   "id": "45502ac5-de74-4fae-b5de-aa8ebc060d5c",
   "metadata": {},
   "source": [
    "# Embedding\n",
    "\n",
    "> Fill in a module description here"
   ]
  },
  {
   "cell_type": "code",
   "execution_count": null,
   "id": "27fb9152-a1b9-4746-9a47-60a52710bd79",
   "metadata": {},
   "outputs": [],
   "source": [
    "#| default_exp transformer.embedding"
   ]
  },
  {
   "cell_type": "code",
   "execution_count": null,
   "id": "056d23d9-9878-4bbf-9c06-680e3e175fc7",
   "metadata": {},
   "outputs": [],
   "source": [
    "#| hide\n",
    "from nbdev.showdoc import *"
   ]
  },
  {
   "cell_type": "code",
   "execution_count": null,
   "id": "6c46c01c-9a4d-481e-996c-a317771af931",
   "metadata": {},
   "outputs": [],
   "source": [
    "#| hide\n",
    "import nbdev; nbdev.nbdev_export()"
   ]
  },
  {
   "cell_type": "code",
   "execution_count": null,
   "id": "34549103-f4d4-4b45-8097-4f284cf7b311",
   "metadata": {},
   "outputs": [],
   "source": [
    "#| export\n",
    "import math\n",
    "from typing import Union\n",
    "\n",
    "import torch\n",
    "from torch import nn"
   ]
  },
  {
   "cell_type": "markdown",
   "id": "fd5d5077-2127-4ae7-93d4-2ee48635908e",
   "metadata": {},
   "source": [
    "### Text Embedding"
   ]
  },
  {
   "cell_type": "markdown",
   "id": "276c87b8-6200-4295-9949-7694cb7bfadc",
   "metadata": {},
   "source": [
    "one for source, one for target"
   ]
  },
  {
   "cell_type": "code",
   "execution_count": null,
   "id": "5dfeed58-a9cd-443e-ace6-6ae04192e3eb",
   "metadata": {},
   "outputs": [],
   "source": [
    "#| export\n",
    "class TextEmbedding(nn.Module):\n",
    "    def __init__(self, vocab_size: int, d_model: int, padding_idx: Union[int, float]):\n",
    "        super().__init__()\n",
    "        self.d_model = d_model\n",
    "        self.embeding = nn.Embedding(vocab_size, d_model, padding_idx=padding_idx)\n",
    "    \n",
    "    def forward(self, tokens: torch.Tensor):\n",
    "        # shape(tokens) = [batch_size x seq_len]\n",
    "        \n",
    "        # shape(embedding) = [batch_size x seq_len x d_model]\n",
    "        embeddings = self.embeding(tokens)\n",
    "        return embeddings * math.sqrt(self.d_model)"
   ]
  },
  {
   "cell_type": "code",
   "execution_count": null,
   "id": "b1dc7d4e-a7fa-4ce3-a00a-ee43cacbf4de",
   "metadata": {},
   "outputs": [],
   "source": [
    "embed = nn.Embedding(5, 4, padding_idx=0)"
   ]
  },
  {
   "cell_type": "code",
   "execution_count": null,
   "id": "073034e3-9a5c-4033-8ac1-d169efe1a8c0",
   "metadata": {},
   "outputs": [
    {
     "data": {
      "text/plain": [
       "tensor([[-0.8024,  0.3854, -0.9739,  2.5922],\n",
       "        [ 3.3359, -1.2493,  0.0466,  1.5786],\n",
       "        [ 1.7705, -1.1482,  0.0487,  0.8839],\n",
       "        [ 0.0000,  0.0000,  0.0000,  0.0000],\n",
       "        [ 0.0000,  0.0000,  0.0000,  0.0000]], grad_fn=<EmbeddingBackward0>)"
      ]
     },
     "execution_count": null,
     "metadata": {},
     "output_type": "execute_result"
    }
   ],
   "source": [
    "embed(torch.tensor([1, 2, 3, 0, 0]))"
   ]
  }
 ],
 "metadata": {
  "kernelspec": {
   "display_name": "sb-from-scratch",
   "language": "python",
   "name": "python3"
  },
  "language_info": {
   "name": "python",
   "version": "3.9.15 | packaged by conda-forge | (main, Nov 22 2022, 08:48:25) \n[Clang 14.0.6 ]"
  },
  "vscode": {
   "interpreter": {
    "hash": "d964ee95f874ee5744c8d970377d82f548475fce4b579cb2112551caf7b0ce8e"
   }
  }
 },
 "nbformat": 4,
 "nbformat_minor": 5
}
