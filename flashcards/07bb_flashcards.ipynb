{
 "cells": [
  {
   "cell_type": "code",
   "execution_count": 13,
   "id": "89572b53-9987-4b9b-9d57-3b4e6550342d",
   "metadata": {},
   "outputs": [],
   "source": [
    "import math\n",
    "import torch\n",
    "import torch.nn.functional as F\n",
    "from torch import nn"
   ]
  },
  {
   "cell_type": "markdown",
   "id": "ca8167f3-8792-4fe4-b10c-9c7be31221ae",
   "metadata": {},
   "source": [
    "### Multi-Head Attention (without masking)"
   ]
  },
  {
   "cell_type": "code",
   "execution_count": null,
   "id": "2f089180-a061-4388-8935-b1f634250cf4",
   "metadata": {},
   "outputs": [],
   "source": [
    "class MultiHeadAttention(nn.Module):\n",
    "    def __init__(self, d_model=4, num_heads=2, dropout=0.3):\n",
    "        super().__init__()\n",
    "        \n",
    "        # calculate the dimensionality per head\n",
    "        self.d_h = d_model // num_heads\n",
    "        \n",
    "        assert self.d_h * num_heads == d_model\n",
    "        \n",
    "        self.d_model = d_model\n",
    "        self.num_heads = num_heads\n",
    "        self.dropout = nn.Dropout(dropout)\n",
    "        \n",
    "        # go from d_model to d per head\n",
    "        self.linear_qs = nn.ModuleList([\n",
    "            nn.Linear(d_model, self.d_h) for _ in range(num_heads)\n",
    "        ])\n",
    "        self.linear_ks = nn.ModuleList([\n",
    "            nn.Linear(d_model, self.d_h) for _ in range(num_heads)\n",
    "        ])        \n",
    "        self.linear_vs = nn.ModuleList([\n",
    "            nn.Linear(d_model, self.d_h) for _ in range(num_heads)\n",
    "        ])\n",
    "        self.linear = nn.Linear(d_model, d_model)\n",
    "    \n",
    "    def scaled_dot_product_attention(self, Q, K, V):\n",
    "        # shape(Q, K, V) = [batch_size x seq_len x d_h] * num_heads\n",
    "        # shape(Q) = [batch_size x seq_len x d_h]\n",
    "        # shape(K) = [batch_size x seq_len x d_h] => [batch_size x d_h x seq_len]\n",
    "        \n",
    "        # shape(Q_K_matmul) = [batch_size x seq_len x seq_len]\n",
    "        Q_K_matmul = torch.matmul(Q, K.permute(0, 2, 1))\n",
    "        \n",
    "        # shape(scores) = [batch_size x seq_len x seq_len]\n",
    "        scores = Q_K_matmul / math.sqrt(self.d_h)\n",
    "        \n",
    "        # shape(attn_weights) = [batch_size x seq_len x seq_len]\n",
    "        attn_weights = F.softmax(scores, dim=-1)\n",
    "        \n",
    "        # shape(output) = [batch_size x seq_len x d_h]\n",
    "        output = torch.matmul(attn_weights, V)\n",
    "        \n",
    "        return output, attn_weights\n",
    "    \n",
    "    def forward(self, x):\n",
    "        # shape(x) = [batch_size x seq_len x d_model]\n",
    "        \n",
    "        # shape(Q, K, V) = [batch_size x seq_len x d_h] * num_heads\n",
    "        Q = [linear_q(x) for linear_q in self.linear_qs]\n",
    "        K = [linear_k(x) for linear_k in self.linear_ks]\n",
    "        V = [linear_v(x) for linear_v in self.linear_vs]\n",
    "        \n",
    "        # shape(output_per_head) = [batch_size x seq_len x d_h] * num_heads\n",
    "        output_per_head = []\n",
    "        \n",
    "        # shape(attn_weight_per_head) = [batch_size x seq_len x seq_len] * num_heads\n",
    "        attn_weight_per_head = []\n",
    "        \n",
    "        for Q_, K_, V_ in zip(Q, K, V):\n",
    "            output, attn_weight = self.scaled_dot_product_attention(Q_, K_, V_)\n",
    "            output_per_head.append(output)\n",
    "            attn_weight_per_head.append(attn_weight)\n",
    "        \n",
    "        # shape(output) = [batch_size x seq_len x d_model]\n",
    "        output = torch.cat(output_per_head, dim=-1)\n",
    "        \n",
    "        # shape(attn_weights) = [num_heads x batch_size x seq_len x seq_len]\n",
    "        attn_weights = torch.stack(attn_weight_per_head)\n",
    "        \n",
    "        # shape(attn_weights) = [batch_size x num_heads x seq_len x seq_len]\n",
    "        attn_weights = attn_weights.permute(1, 0, 2, 3)\n",
    "        \n",
    "        projection = self.dropout(self.linear(output))\n",
    "        \n",
    "        return projection, attn_weights"
   ]
  },
  {
   "cell_type": "code",
   "execution_count": null,
   "id": "57e86a12-0442-4379-b26b-a1f752b79c6b",
   "metadata": {},
   "outputs": [],
   "source": [
    "text_encodings = torch.Tensor([[\n",
    "    [0.0, 0.1, 0.2, 0.3],\n",
    "    [1.0, 1.1, 1.2, 1.3],\n",
    "    [2.0, 2.1, 2.2, 2.3]\n",
    "]]) "
   ]
  },
  {
   "cell_type": "markdown",
   "id": "1ffd6f63-b53b-4fcf-9641-e76a6cb3044e",
   "metadata": {},
   "source": [
    "##### Example 8"
   ]
  },
  {
   "cell_type": "code",
   "execution_count": null,
   "id": "8443bebe-376b-4a6e-b6cb-a92b8778328c",
   "metadata": {},
   "outputs": [
    {
     "data": {
      "text/plain": [
       "torch.Size([1, 3, 4])"
      ]
     },
     "execution_count": null,
     "metadata": {},
     "output_type": "execute_result"
    }
   ],
   "source": [
    "text_encodings.shape"
   ]
  },
  {
   "cell_type": "code",
   "execution_count": null,
   "id": "41643c39-aef8-4b13-97a2-0f814a1843cf",
   "metadata": {},
   "outputs": [],
   "source": [
    "mha = MultiHeadAttention(d_model=4, num_heads=2)"
   ]
  },
  {
   "cell_type": "code",
   "execution_count": null,
   "id": "875c42f8-45e2-4c6f-9807-24836608607d",
   "metadata": {},
   "outputs": [],
   "source": [
    "output, attn_weights= mha(text_encodings)"
   ]
  },
  {
   "cell_type": "markdown",
   "id": "57cba82e-3e3b-49f4-b1d6-a476dbdfea22",
   "metadata": {},
   "source": [
    "Predict the shape of `projection`. Explain why."
   ]
  },
  {
   "cell_type": "code",
   "execution_count": null,
   "id": "43060d77-d6ad-4f0c-be8b-ec9970c7f6eb",
   "metadata": {},
   "outputs": [
    {
     "data": {
      "text/plain": [
       "torch.Size([1, 3, 4])"
      ]
     },
     "execution_count": null,
     "metadata": {},
     "output_type": "execute_result"
    }
   ],
   "source": [
    "output.shape"
   ]
  },
  {
   "cell_type": "markdown",
   "id": "1ce6c33b-8441-46fb-a4ae-2f2a9ecc6ad7",
   "metadata": {},
   "source": [
    "**Explain**\n",
    "\n",
    "- `1`: batch size is one\n",
    "- `3`: there are three words in a sequence\n",
    "- `4`: each word represented by a vector has size 4"
   ]
  },
  {
   "cell_type": "markdown",
   "id": "73c4e594-8a56-42f9-81f3-e9dbca5e5ff4",
   "metadata": {},
   "source": [
    "##### Example 9"
   ]
  },
  {
   "cell_type": "code",
   "execution_count": null,
   "id": "791b24eb-933e-4402-8077-f04fac8044cc",
   "metadata": {},
   "outputs": [
    {
     "data": {
      "text/plain": [
       "torch.Size([1, 3, 4])"
      ]
     },
     "execution_count": null,
     "metadata": {},
     "output_type": "execute_result"
    }
   ],
   "source": [
    "text_encodings.shape"
   ]
  },
  {
   "cell_type": "code",
   "execution_count": null,
   "id": "77aafd55-a697-4f38-bbc6-9668e15c6a90",
   "metadata": {},
   "outputs": [],
   "source": [
    "mha = MultiHeadAttention(d_model=4, num_heads=2)"
   ]
  },
  {
   "cell_type": "code",
   "execution_count": null,
   "id": "e3fafa0b-4534-4613-9933-9750a88b8384",
   "metadata": {},
   "outputs": [],
   "source": [
    "projection, attn_weights= mha(toy_encodings)"
   ]
  },
  {
   "cell_type": "markdown",
   "id": "e34e4711-4123-4a17-a0c3-8556886b12e1",
   "metadata": {},
   "source": [
    "Predict the shape of `attn_weights`. Explain why."
   ]
  },
  {
   "cell_type": "code",
   "execution_count": null,
   "id": "89609359-a814-47d9-a65e-8230690e9268",
   "metadata": {},
   "outputs": [
    {
     "data": {
      "text/plain": [
       "torch.Size([1, 2, 3, 3])"
      ]
     },
     "execution_count": null,
     "metadata": {},
     "output_type": "execute_result"
    }
   ],
   "source": [
    "attn_weights.shape"
   ]
  },
  {
   "cell_type": "markdown",
   "id": "ae8057ed-3fad-429e-b55a-9b8e7b5bd48b",
   "metadata": {},
   "source": [
    "**Explain**\n",
    "- `1`: batch size is one\n",
    "- `2`: there're two heads\n",
    "- `3`: there're three words\n",
    "- `3`: in each words, there are attention weights for other words in the sentence"
   ]
  },
  {
   "cell_type": "markdown",
   "id": "fd1620c8-38e6-4f25-83d2-ec93c573ffd9",
   "metadata": {},
   "source": [
    "### Masked Self Attention"
   ]
  },
  {
   "cell_type": "markdown",
   "id": "bb9487b2-faa6-4e1b-a43b-5a29b6eb5aab",
   "metadata": {},
   "source": [
    "##### Example 1"
   ]
  },
  {
   "cell_type": "code",
   "execution_count": 44,
   "id": "a171c935-107b-4403-adc1-8e3ee52df2a7",
   "metadata": {},
   "outputs": [],
   "source": [
    "mask = torch.zeros(10, 4, 3, 3)"
   ]
  },
  {
   "cell_type": "code",
   "execution_count": 55,
   "id": "7e935ed7-7d87-4d89-9ebb-baba73c8f2c9",
   "metadata": {},
   "outputs": [],
   "source": [
    "q, k, v = torch.randn(10, 4, 3, 6), torch.randn(10, 4, 3, 6), torch.randn(10, 4, 3, 6)"
   ]
  },
  {
   "cell_type": "code",
   "execution_count": 73,
   "id": "e0991492-58c8-4bab-96d1-a19cb97eb80c",
   "metadata": {},
   "outputs": [],
   "source": [
    "import math\n",
    "from torch import nn\n",
    "import torch.nn.functional as F"
   ]
  },
  {
   "cell_type": "markdown",
   "id": "91a4383c-7dd6-48b3-b4be-1a1b7538b511",
   "metadata": {},
   "source": [
    "Write a scale product **masked self-attention** that **uses in multi-head attention** from scratch"
   ]
  },
  {
   "cell_type": "markdown",
   "id": "dcca2745-670c-49fb-9c16-924c9baad231",
   "metadata": {},
   "source": [
    "**Hints**\n",
    "- The valid shape of matrix multiplication: `[10, 4, x, y]` @ `[10, 4, y, x]`\n",
    "- Scores divide by (the square root of the dimension of a word embedding)"
   ]
  },
  {
   "cell_type": "code",
   "execution_count": 74,
   "id": "7d1502b8-9b53-42ac-ae9e-d479e69d7cd1",
   "metadata": {},
   "outputs": [],
   "source": [
    "class SelfAttention(nn.Module):\n",
    "    def __init__(self, d_head):\n",
    "        super().__init__()\n",
    "        self.d_head = d_head\n",
    "    \n",
    "    def forward(self, q, k, v, mask = None):\n",
    "        # shape(q,k,v) = [batch_size x n_heads x seq_len x d_head]\n",
    "        \n",
    "        # shape(reshaped_k) = [batch_size x n_heads x d_head x seq_len]\n",
    "        reshaped_k = k.permute(0, 1, 3, 2)\n",
    "        q_k_matmul = torch.matmul(q, reshaped_k)\n",
    "        scores = q_k_matmul / math.sqrt(self.d_head)\n",
    "                \n",
    "        if mask is not None:\n",
    "            scores = scores.masked_fill(mask == 0, -1e9)\n",
    "        \n",
    "        # shape(attention_weights) = [batch_size x n_heads x seq_len x d_head]\n",
    "        attention_weights = F.softmax(scores, dim=-1)\n",
    "        \n",
    "        # shape(output) = [batch_size x n_heads x seq_len x d_head]\n",
    "        output = torch.matmul(attention_weights, v)\n",
    "        \n",
    "        return output, attention_weights"
   ]
  },
  {
   "cell_type": "markdown",
   "id": "c3a36474-578d-4d74-99fe-3c65e78f727d",
   "metadata": {},
   "source": [
    "`q` contain `10` sentences, each sentence has `3` words. And there're `4` heads.  Same for `k` and `v`"
   ]
  },
  {
   "cell_type": "code",
   "execution_count": 75,
   "id": "597cd95e-8288-4485-b27b-0298418699f0",
   "metadata": {},
   "outputs": [
    {
     "data": {
      "text/plain": [
       "(torch.Size([10, 4, 3, 6]),\n",
       " torch.Size([10, 4, 3, 6]),\n",
       " torch.Size([10, 4, 3, 6]))"
      ]
     },
     "execution_count": 75,
     "metadata": {},
     "output_type": "execute_result"
    }
   ],
   "source": [
    "q.shape, k.shape, v.shape"
   ]
  },
  {
   "cell_type": "code",
   "execution_count": 76,
   "id": "3ccc9e52-50e7-4ddc-9706-a07ef491ab6e",
   "metadata": {},
   "outputs": [
    {
     "data": {
      "text/plain": [
       "torch.Size([10, 4, 3, 3])"
      ]
     },
     "execution_count": 76,
     "metadata": {},
     "output_type": "execute_result"
    }
   ],
   "source": [
    "mask.shape"
   ]
  },
  {
   "cell_type": "code",
   "execution_count": 77,
   "id": "070c9579-fc41-429d-b200-bda7cc7f5f81",
   "metadata": {},
   "outputs": [],
   "source": [
    "attention = SelfAttention(d_head=6)"
   ]
  },
  {
   "cell_type": "code",
   "execution_count": 78,
   "id": "d65afc95-aea3-42bc-8152-7eb37262bba9",
   "metadata": {},
   "outputs": [],
   "source": [
    "output, attention_weights = attention(q, k, v, mask=mask)"
   ]
  },
  {
   "cell_type": "code",
   "execution_count": 79,
   "id": "23569225-f433-40d8-a573-661822f8e826",
   "metadata": {},
   "outputs": [
    {
     "data": {
      "text/plain": [
       "(torch.Size([10, 4, 3, 6]), torch.Size([10, 4, 3, 3]))"
      ]
     },
     "execution_count": 79,
     "metadata": {},
     "output_type": "execute_result"
    }
   ],
   "source": [
    "output.shape, attention_weights.shape"
   ]
  },
  {
   "cell_type": "code",
   "execution_count": null,
   "id": "4b4375d3-e1a1-4a71-9a16-ec17a41d1ac7",
   "metadata": {},
   "outputs": [],
   "source": []
  },
  {
   "cell_type": "code",
   "execution_count": 72,
   "id": "cfd0aefb-5221-4df2-9578-68464592365e",
   "metadata": {},
   "outputs": [],
   "source": [
    "from foundation.transformer.efficient_attention import ScaleDotProductAttention"
   ]
  },
  {
   "cell_type": "code",
   "execution_count": null,
   "id": "2c5bc9ed-3145-4bce-b411-00cefcfd48ed",
   "metadata": {},
   "outputs": [],
   "source": []
  }
 ],
 "metadata": {
  "kernelspec": {
   "display_name": "Python 3 (ipykernel)",
   "language": "python",
   "name": "python3"
  },
  "language_info": {
   "codemirror_mode": {
    "name": "ipython",
    "version": 3
   },
   "file_extension": ".py",
   "mimetype": "text/x-python",
   "name": "python",
   "nbconvert_exporter": "python",
   "pygments_lexer": "ipython3",
   "version": "3.9.15"
  },
  "vscode": {
   "interpreter": {
    "hash": "d964ee95f874ee5744c8d970377d82f548475fce4b579cb2112551caf7b0ce8e"
   }
  }
 },
 "nbformat": 4,
 "nbformat_minor": 5
}
